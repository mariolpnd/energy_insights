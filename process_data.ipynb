{
 "cells": [
  {
   "attachments": {},
   "cell_type": "markdown",
   "metadata": {},
   "source": [
    "Process and format the electricity and gas data for the analysis."
   ]
  },
  {
   "cell_type": "code",
   "execution_count": null,
   "metadata": {},
   "outputs": [],
   "source": [
    "### IMPORTS\n",
    "\n",
    "import pandas as pd"
   ]
  },
  {
   "cell_type": "code",
   "execution_count": 2,
   "metadata": {},
   "outputs": [],
   "source": [
    "### INPUTS\n",
    "\n",
    "input_dir = r\"D:\\Documentos\\Artículos\\Análisis energía España\\data_sources\\00_esios_ree_raw\"\n",
    "output_dir = r\"D:\\Documentos\\Artículos\\Análisis energía España\\data_sources\\01_esios_ree_processed\""
   ]
  },
  {
   "cell_type": "code",
   "execution_count": 8,
   "metadata": {},
   "outputs": [],
   "source": [
    "### LOAD DATA\n",
    "\n",
    "gas_price = pd.read_csv(f'{input_dir}\\gas_price.csv')\n",
    "gas_price_RD = pd.read_csv(f'{input_dir}\\gas_price_RD.csv')\n",
    "elec_spot_price = pd.read_csv(f'{input_dir}\\price_data.csv')\n",
    "power_generation = pd.read_csv(f'{input_dir}\\generation_data.csv')\n",
    "installed_capacity = pd.read_csv(f'{input_dir}\\capacity_data.csv')"
   ]
  },
  {
   "cell_type": "code",
   "execution_count": 9,
   "metadata": {},
   "outputs": [],
   "source": [
    "### PROCESS GAS PRICE\n",
    "\n",
    "# Rename columns\n",
    "gas_price = gas_price.rename(columns={'fecha': 'date','precio': 'price', 'Producto': 'indicator'})\n",
    "gas_price_RD = gas_price_RD.rename(columns={'Date': 'date', 'Price(EUR/MWh)': 'price'})\n",
    "\n",
    "# Convert datetime column to datetime object\n",
    "gas_price.date = pd.to_datetime(gas_price.date)\n",
    "gas_price_RD.date = pd.to_datetime(gas_price_RD.date)\n",
    "\n",
    "# Add product column to RD gas price\n",
    "gas_price_RD['indicator'] = 'PGN'\n",
    "\n",
    "# Join dataframes\n",
    "concat_gas = pd.concat([gas_price, gas_price_RD])\n",
    "\n",
    "# Save to CSV\n",
    "concat_gas.to_csv('{}\\gas_price.csv'.format(output_dir),index=False)"
   ]
  },
  {
   "cell_type": "code",
   "execution_count": null,
   "metadata": {},
   "outputs": [],
   "source": [
    "### PROCESS ELECTRICITY SPOT PRICE\n",
    "\n",
    "# Read in data\n",
    "elec_spot_price = pd.read_csv(f'{input_dir}\\price_data.csv')\n",
    "\n",
    "# Rename columns\n",
    "elec_spot_price = elec_spot_price.rename(columns={'geo_name': 'country', 'value': 'price'})\n",
    "\n",
    "# Drop unnecessary columns\n",
    "elec_spot_price = elec_spot_price.drop(['datetime_utc','tz_time','geo_id','name','short_name'], axis=1)\n",
    "\n",
    "# Set datetime as index\n",
    "elec_spot_price.index = elec_spot_price.datetime\n",
    "\n",
    "# Rename datetime column and drop original datetime column\n",
    "elec_spot_price = elec_spot_price.rename(columns={'datetime':'datetime_col'}).drop('datetime_col', axis=1)\n",
    "\n",
    "# Save selected columns to CSV\n",
    "elec_spot_price[['country', 'price']].to_csv('{}\\elec_spot_price.csv'.format(output_dir), index=True)"
   ]
  },
  {
   "cell_type": "code",
   "execution_count": 32,
   "metadata": {},
   "outputs": [],
   "source": [
    "### PROCESS ELECTRICITY GENERATION\n",
    "\n",
    "# Read in data\n",
    "power_generation = pd.read_csv(f'{input_dir}\\generation_data.csv')\n",
    "\n",
    "# Rename columns\n",
    "power_generation = power_generation.rename(columns={'value': 'generation','short_name':'source'})\n",
    "\n",
    "# Drop unnecessary columns\n",
    "power_generation = power_generation.drop(['datetime_utc','tz_time','geo_id','name','geo_name'], axis=1)\n",
    "\n",
    "# Set datetime as index\n",
    "power_generation.index = power_generation.datetime\n",
    "\n",
    "# Rename datetime column and drop original datetime column\n",
    "power_generation = power_generation.rename(columns={'datetime':'datetime_col'}).drop('datetime_col', axis=1)\n",
    "\n",
    "# Save selected columns to CSV\n",
    "power_generation[['source', 'generation']].to_csv('{}\\power_generation.csv'.format(output_dir), index=True)"
   ]
  },
  {
   "cell_type": "code",
   "execution_count": 72,
   "metadata": {},
   "outputs": [],
   "source": [
    "### PROCESS INSTALLED CAPACITY\n",
    "\n",
    "# Read in data\n",
    "installed_capacity = pd.read_csv(f'{input_dir}\\capacity_data.csv')\n",
    "\n",
    "# Rename columns\n",
    "installed_capacity = installed_capacity.rename(columns={'short_name': 'source', 'value': 'capacity'})\n",
    "\n",
    "# Drop unnecessary columns\n",
    "installed_capacity = installed_capacity.drop(['datetime_utc','tz_time','geo_id','geo_name','name'], axis=1)\n",
    "\n",
    "# Set datetime as index\n",
    "installed_capacity.index = installed_capacity.datetime\n",
    "\n",
    "# Rename datetime column and drop original datetime column\n",
    "installed_capacity = installed_capacity.rename(columns={'datetime':'datetime_col'}).drop('datetime_col', axis=1)\n",
    "\n",
    "# Aggregate other sources\n",
    "other_sources = set(['Fuel+gas','Hidroeólica','Residuos renovables','Residuos no renovables',\n",
    "                    'Turbina de vapor','Motores diesel','Otras renovables','Turbina de gas'])\n",
    "installed_capacity['agg_source'] = installed_capacity['source'].apply(lambda x: 'Otras' if x in other_sources else x)\n",
    "\n",
    "# Remove total source, drop disaggregated source and rename aggregated source to source\n",
    "installed_capacity = installed_capacity[installed_capacity.source!='Total']\n",
    "installed_capacity = installed_capacity.drop('source',axis=1).rename(columns={'agg_source':'source'})\n",
    "\n",
    "# Group by new source and reset index\n",
    "installed_capacity = installed_capacity.groupby(by=['datetime','source']).sum().reset_index().set_index('datetime').sort_values(by='datetime')\n",
    "\n",
    "# Save selected columns to CSV\n",
    "installed_capacity[['source', 'capacity']].to_csv('{}\\installed_capacity.csv'.format(output_dir), index=True)"
   ]
  }
 ],
 "metadata": {
  "kernelspec": {
   "display_name": "Python 3",
   "language": "python",
   "name": "python3"
  },
  "language_info": {
   "codemirror_mode": {
    "name": "ipython",
    "version": 3
   },
   "file_extension": ".py",
   "mimetype": "text/x-python",
   "name": "python",
   "nbconvert_exporter": "python",
   "pygments_lexer": "ipython3",
   "version": "3.10.8"
  },
  "orig_nbformat": 4,
  "vscode": {
   "interpreter": {
    "hash": "d4026d7a36d874e1f6c487603191095e1ef70b08516b0a096b0ced5fbd321bb0"
   }
  }
 },
 "nbformat": 4,
 "nbformat_minor": 2
}
