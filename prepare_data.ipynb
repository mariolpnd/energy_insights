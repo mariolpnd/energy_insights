{
 "cells": [
  {
   "attachments": {},
   "cell_type": "markdown",
   "metadata": {},
   "source": [
    "Download data from ESIOS-REE API (System Operator Information System of Spanish Electricity Network) and from the MIBGAS web (Iberian Gas Market)"
   ]
  },
  {
   "cell_type": "code",
   "execution_count": null,
   "metadata": {},
   "outputs": [],
   "source": [
    "### Imports\n",
    "\n",
    "from download_functions import downloadEsios, downloadGasRD\n",
    "from download_functions import downloadGas\n",
    "\n",
    "from Personal.pass_esios import token_esios as token\n",
    "\n",
    "import pandas as pd\n",
    "from datetime import datetime, timedelta"
   ]
  },
  {
   "cell_type": "code",
   "execution_count": 3,
   "metadata": {},
   "outputs": [],
   "source": [
    "### Inputs\n",
    "\n",
    "output_dir = r\"D:\\Documentos\\Artículos\\Análisis energía España\\data_sources\\00_esios_ree_raw\"\n",
    "catalogo_esios = pd.read_csv('{}\\catalogo_esios.csv'.format(output_dir))"
   ]
  },
  {
   "cell_type": "code",
   "execution_count": null,
   "metadata": {},
   "outputs": [],
   "source": [
    "### Download electricity generation indicators by power source in the basic functioning program (PBF)\n",
    "\n",
    "indicators = [3,4,9,14,15,10064,10073,10074,10077,10086,10095,10167]\n",
    "init_date = '2021-01-01'\n",
    "end_date = '2023-02-28'\n",
    "\n",
    "generation_data = downloadEsios(token, indicators, init_date, end_date, time_trunc='hour' )\n",
    "generation_data.to_csv('{}\\generation_data.csv'.format(output_dir),index=False)"
   ]
  },
  {
   "cell_type": "code",
   "execution_count": null,
   "metadata": {},
   "outputs": [],
   "source": [
    "### Download electricity price in the daily spot market\n",
    "\n",
    "price_data = pd.DataFrame({})\n",
    "indicators = [600]\n",
    "\n",
    "init_date =  datetime.strptime('2021-01-01', '%Y-%m-%d').date()\n",
    "end_date = init_date + timedelta(days=29)\n",
    "final_end_date = datetime.strptime('2023-02-28', '%Y-%m-%d').date()\n",
    "time_delta = timedelta(days=30)\n",
    "\n",
    "while end_date < final_end_date:\n",
    "    init_date = init_date.strftime('%Y-%m-%d')\n",
    "    end_date = end_date.strftime('%Y-%m-%d')\n",
    "    price_data = pd.concat([price_data,downloadEsios(token, indicators, init_date, end_date )])\n",
    "    init_date = datetime.strptime(init_date, '%Y-%m-%d').date() + time_delta\n",
    "    end_date = datetime.strptime(end_date, '%Y-%m-%d').date() + time_delta\n",
    "\n",
    "init_date = init_date.strftime('%Y-%m-%d')\n",
    "end_date = final_end_date.strftime('%Y-%m-%d')\n",
    "price_data = pd.concat([price_data,downloadEsios(token, indicators, init_date, end_date )])\n",
    "    \n",
    "price_data.to_csv('{}\\price_data.csv'.format(output_dir),index=False)"
   ]
  },
  {
   "cell_type": "code",
   "execution_count": null,
   "metadata": {},
   "outputs": [],
   "source": [
    "### Download installed capacity data\n",
    "\n",
    "indicators = [1490,1489,1487,1486,1488,10300,1485,1484,1483,1491,1478,1482,1481,1480,1475,1477,1476,1479]\n",
    "init_date =  '2020-12-31'\n",
    "end_date = '2023-02-28'\n",
    "\n",
    "capacity_data = downloadEsios(token, indicators, init_date, end_date )\n",
    "capacity_data.to_csv('{}\\capacity_data_test.csv'.format(output_dir),index=False)"
   ]
  },
  {
   "cell_type": "code",
   "execution_count": 4,
   "metadata": {},
   "outputs": [],
   "source": [
    "### Download forwards gas prices for the day ahead\n",
    "\n",
    "gas_price = pd.DataFrame({})\n",
    "years = ['2021','2022','2023']\n",
    "\n",
    "for year in years:\n",
    "    gas_price = pd.concat([gas_price,downloadGas(year)])\n",
    "\n",
    "gas_price.to_csv('{}\\gas_price.csv'.format(output_dir),index=False)"
   ]
  },
  {
   "cell_type": "code",
   "execution_count": null,
   "metadata": {},
   "outputs": [],
   "source": [
    "### Descargar compensation gas prices - RD 10/2022\n",
    "\n",
    "gas_price_rd = downloadGasRD('2023')\n",
    "gas_price_rd.to_csv('{}\\gas_price_RD.csv'.format(output_dir),index=False)"
   ]
  }
 ],
 "metadata": {
  "kernelspec": {
   "display_name": "Python 3",
   "language": "python",
   "name": "python3"
  },
  "language_info": {
   "codemirror_mode": {
    "name": "ipython",
    "version": 3
   },
   "file_extension": ".py",
   "mimetype": "text/x-python",
   "name": "python",
   "nbconvert_exporter": "python",
   "pygments_lexer": "ipython3",
   "version": "3.10.8"
  },
  "orig_nbformat": 4,
  "vscode": {
   "interpreter": {
    "hash": "d4026d7a36d874e1f6c487603191095e1ef70b08516b0a096b0ced5fbd321bb0"
   }
  }
 },
 "nbformat": 4,
 "nbformat_minor": 2
}
